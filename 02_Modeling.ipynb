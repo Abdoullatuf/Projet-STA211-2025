{
 "cells": [
  {
   "cell_type": "markdown",
   "id": "f0f3e36d",
   "metadata": {},
   "source": [
    "# Advertisement Click Prediction Modeling\n",
    "\n",
    "This notebook focuses on developing and evaluating machine learning models to predict advertisement clicks based on the provided features.\n",
    "\n",
    "## Table of Contents\n",
    "1. [Data Loading and Preparation](#data-loading)\n",
    "2. [Model Development](#model-development)\n",
    "3. [Model Evaluation](#model-evaluation)\n",
    "4. [Hyperparameter Optimization](#hyperparameter-optimization)\n",
    "5. [Final Model and Predictions](#final-model)\n"
   ]
  },
  {
   "cell_type": "code",
   "execution_count": null,
   "id": "6305ba44",
   "metadata": {},
   "outputs": [],
   "source": [
    "import pandas as pd\n",
    "import numpy as np\n",
    "from sklearn.model_selection import train_test_split, GridSearchCV, cross_val_score\n",
    "from sklearn.preprocessing import StandardScaler\n",
    "from sklearn.metrics import classification_report, confusion_matrix, roc_auc_score\n",
    "from sklearn.ensemble import RandomForestClassifier, GradientBoostingClassifier\n",
    "from sklearn.linear_model import LogisticRegression\n",
    "from xgboost import XGBClassifier\n",
    "from imblearn.over_sampling import SMOTE\n",
    "import matplotlib.pyplot as plt\n",
    "import seaborn as sns\n",
    "%matplotlib inline\n"
   ]
  },
  {
   "cell_type": "markdown",
   "id": "e673f45f",
   "metadata": {},
   "source": [
    "## Data Loading and Preparation"
   ]
  },
  {
   "cell_type": "code",
   "execution_count": null,
   "id": "e25135d3",
   "metadata": {},
   "outputs": [],
   "source": [
    "# Load the imputed data\n",
    "df = pd.read_csv('data_train_imputed.csv')\n",
    "\n",
    "# Separate features and target\n",
    "X = df.drop('target', axis=1)\n",
    "y = df['target']\n",
    "\n",
    "# Split the data\n",
    "X_train, X_test, y_train, y_test = train_test_split(\n",
    "    X, y, test_size=0.2, random_state=42, stratify=y\n",
    ")\n",
    "\n",
    "# Scale the features\n",
    "scaler = StandardScaler()\n",
    "X_train_scaled = scaler.fit_transform(X_train)\n",
    "X_test_scaled = scaler.transform(X_test)\n",
    "\n",
    "# Handle class imbalance using SMOTE\n",
    "smote = SMOTE(random_state=42)\n",
    "X_train_balanced, y_train_balanced = smote.fit_resample(X_train_scaled, y_train)\n"
   ]
  },
  {
   "cell_type": "markdown",
   "id": "2373024a",
   "metadata": {},
   "source": [
    "## Model Development"
   ]
  },
  {
   "cell_type": "code",
   "execution_count": null,
   "id": "b6c73d51",
   "metadata": {},
   "outputs": [],
   "source": [
    "# Initialize models\n",
    "models = {\n",
    "    'Logistic Regression': LogisticRegression(random_state=42),\n",
    "    'Random Forest': RandomForestClassifier(random_state=42),\n",
    "    'Gradient Boosting': GradientBoostingClassifier(random_state=42),\n",
    "    'XGBoost': XGBClassifier(random_state=42)\n",
    "}\n",
    "\n",
    "# Train and evaluate models\n",
    "results = {}\n",
    "for name, model in models.items():\n",
    "    model.fit(X_train_balanced, y_train_balanced)\n",
    "    y_pred = model.predict(X_test_scaled)\n",
    "    results[name] = {\n",
    "        'accuracy': model.score(X_test_scaled, y_test),\n",
    "        'roc_auc': roc_auc_score(y_test, model.predict_proba(X_test_scaled)[:, 1]),\n",
    "        'classification_report': classification_report(y_test, y_pred)\n",
    "    }\n"
   ]
  },
  {
   "cell_type": "markdown",
   "id": "3c536e99",
   "metadata": {},
   "source": [
    "## Model Evaluation"
   ]
  },
  {
   "cell_type": "code",
   "execution_count": null,
   "id": "acbc2f46",
   "metadata": {},
   "outputs": [],
   "source": [
    "# Compare model performances\n",
    "performance_df = pd.DataFrame({\n",
    "    name: {\n",
    "        'Accuracy': results[name]['accuracy'],\n",
    "        'ROC AUC': results[name]['roc_auc']\n",
    "    }\n",
    "    for name in models.keys()\n",
    "}).T\n",
    "\n",
    "# Plot results\n",
    "plt.figure(figsize=(10, 6))\n",
    "performance_df.plot(kind='bar')\n",
    "plt.title('Model Performance Comparison')\n",
    "plt.ylabel('Score')\n",
    "plt.xticks(rotation=45)\n",
    "plt.tight_layout()\n"
   ]
  },
  {
   "cell_type": "markdown",
   "id": "5acd886c",
   "metadata": {},
   "source": [
    "## Hyperparameter Optimization"
   ]
  },
  {
   "cell_type": "code",
   "execution_count": null,
   "id": "5c091659",
   "metadata": {},
   "outputs": [],
   "source": [
    "# Define parameter grids for the best performing model\n",
    "# Example for Random Forest\n",
    "param_grid = {\n",
    "    'n_estimators': [100, 200, 300],\n",
    "    'max_depth': [10, 20, 30, None],\n",
    "    'min_samples_split': [2, 5, 10],\n",
    "    'min_samples_leaf': [1, 2, 4]\n",
    "}\n",
    "\n",
    "# Perform grid search\n",
    "grid_search = GridSearchCV(\n",
    "    RandomForestClassifier(random_state=42),\n",
    "    param_grid,\n",
    "    cv=5,\n",
    "    scoring='roc_auc',\n",
    "    n_jobs=-1\n",
    ")\n",
    "\n",
    "grid_search.fit(X_train_balanced, y_train_balanced)\n",
    "\n",
    "print(\"Best parameters:\", grid_search.best_params_)\n",
    "print(\"Best score:\", grid_search.best_score_)\n"
   ]
  },
  {
   "cell_type": "markdown",
   "id": "3c512471",
   "metadata": {},
   "source": [
    "## Final Model and Predictions"
   ]
  },
  {
   "cell_type": "code",
   "execution_count": null,
   "id": "f52b1223",
   "metadata": {},
   "outputs": [],
   "source": [
    "# Train final model with best parameters\n",
    "final_model = RandomForestClassifier(**grid_search.best_params_, random_state=42)\n",
    "final_model.fit(X_train_balanced, y_train_balanced)\n",
    "\n",
    "# Make predictions\n",
    "y_pred_final = final_model.predict(X_test_scaled)\n",
    "y_pred_proba_final = final_model.predict_proba(X_test_scaled)[:, 1]\n",
    "\n",
    "# Print final results\n",
    "print(\"Classification Report:\")\n",
    "print(classification_report(y_test, y_pred_final))\n",
    "\n",
    "print(\"\n",
    "ROC AUC Score:\", roc_auc_score(y_test, y_pred_proba_final))\n",
    "\n",
    "# Plot feature importance\n",
    "feature_importance = pd.DataFrame({\n",
    "    'feature': X.columns,\n",
    "    'importance': final_model.feature_importances_\n",
    "}).sort_values('importance', ascending=False)\n",
    "\n",
    "plt.figure(figsize=(12, 6))\n",
    "sns.barplot(data=feature_importance.head(20), x='importance', y='feature')\n",
    "plt.title('Top 20 Most Important Features')\n",
    "plt.xlabel('Feature Importance')\n",
    "plt.tight_layout()\n"
   ]
  }
 ],
 "metadata": {},
 "nbformat": 4,
 "nbformat_minor": 5
}
