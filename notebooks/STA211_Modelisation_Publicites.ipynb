{
 "cells": [
  {
   "cell_type": "markdown",
   "id": "zlYR1Fjf5VKI",
   "metadata": {
    "id": "zlYR1Fjf5VKI"
   },
   "source": [
    "# Projet STA211 — Modélisation supervisée : Classification de publicités\n",
    "\n",
    "Ce notebook fait suite à l’analyse exploratoire des données (01_EDA_Preprocessing), et se concentre sur la **modélisation supervisée** dans le cadre du projet STA211.\n",
    "\n",
    "**Objectif** : prédire si une observation correspond à une publicité (`ad.`) ou non (`noad.`) à partir des données du jeu Internet Advertisements.\n",
    "\n",
    "**Fichiers utilisés** :\n",
    "- `data_train.csv` : données d’entraînement préalablement nettoyées et explorées\n",
    "- `data_test.csv` : données de test à prédire\n",
    "\n",
    "**Étapes couvertes ici** :\n",
    "1. Préparation des données pour la modélisation (équilibration des données, standardisation…)\n",
    "2. Implémentation de plusieurs modèles supervisés (logistique, arbres, forêts, etc.)\n",
    "3. Évaluation comparative des performances (F1-score, AUC, matrice de confusion)\n",
    "4. Gestion du déséquilibre des classes si nécessaire (SMOTE, pondération)\n",
    "5. Génération d’un fichier `my_pred.csv` pour soumission\n",
    "\n",
    "> Ce notebook suppose que le prétraitement initial (gestion des NA, exploration univariée et bivariée, transformations) a été réalisé dans le notebook EDA (`01_EDA_Preprocessing`).\n"
   ]
  },
  {
   "cell_type": "code",
   "execution_count": 1,
   "id": "Wc2Us44k5zCm",
   "metadata": {
    "colab": {
     "base_uri": "https://localhost:8080/"
    },
    "executionInfo": {
     "elapsed": 1894,
     "status": "ok",
     "timestamp": 1746710914301,
     "user": {
      "displayName": "maoulida abdoullatuf",
      "userId": "05790302460507444417"
     },
     "user_tz": -120
    },
    "id": "Wc2Us44k5zCm",
    "outputId": "395bbfe1-58c2-463b-8f82-93786ef59304"
   },
   "outputs": [
    {
     "ename": "ModuleNotFoundError",
     "evalue": "No module named 'google'",
     "output_type": "error",
     "traceback": [
      "\u001b[1;31m---------------------------------------------------------------------------\u001b[0m",
      "\u001b[1;31mModuleNotFoundError\u001b[0m                       Traceback (most recent call last)",
      "Cell \u001b[1;32mIn[1], line 1\u001b[0m\n\u001b[1;32m----> 1\u001b[0m \u001b[38;5;28;01mfrom\u001b[39;00m\u001b[38;5;250m \u001b[39m\u001b[38;5;21;01mgoogle\u001b[39;00m\u001b[38;5;21;01m.\u001b[39;00m\u001b[38;5;21;01mcolab\u001b[39;00m\u001b[38;5;250m \u001b[39m\u001b[38;5;28;01mimport\u001b[39;00m drive\n\u001b[0;32m      2\u001b[0m drive\u001b[38;5;241m.\u001b[39mmount(\u001b[38;5;124m'\u001b[39m\u001b[38;5;124m/content/drive\u001b[39m\u001b[38;5;124m'\u001b[39m)\n",
      "\u001b[1;31mModuleNotFoundError\u001b[0m: No module named 'google'"
     ]
    }
   ],
   "source": [
    "from google.colab import drive\n",
    "drive.mount('/content/drive')"
   ]
  },
  {
   "cell_type": "code",
   "execution_count": 2,
   "id": "y3V4sAbj56lc",
   "metadata": {
    "colab": {
     "base_uri": "https://localhost:8080/"
    },
    "executionInfo": {
     "elapsed": 3583,
     "status": "ok",
     "timestamp": 1746710917917,
     "user": {
      "displayName": "maoulida abdoullatuf",
      "userId": "05790302460507444417"
     },
     "user_tz": -120
    },
    "id": "y3V4sAbj56lc",
    "outputId": "112939a5-1001-4c0c-e4c8-9d8777e49552"
   },
   "outputs": [
    {
     "name": "stdout",
     "output_type": "stream",
     "text": [
      "Environnement : local\n",
      "ROOT_DIR       = C:\\Users\\aella\\OneDrive\\Documents\\Projects\\STA211_Challenge_2025\n",
      "MODULE_DIR     = C:\\Users\\aella\\OneDrive\\Documents\\Projects\\STA211_Challenge_2025\\modules\n",
      "RAW_DATA_DIR   = C:\\Users\\aella\\OneDrive\\Documents\\Projects\\STA211_Challenge_2025\\data\\raw\n",
      "DATA_PROCESSED = C:\\Users\\aella\\OneDrive\\Documents\\Projects\\STA211_Challenge_2025\\data\\processed\n",
      "FIGURES_DIR    = C:\\Users\\aella\\OneDrive\\Documents\\Projects\\STA211_Challenge_2025\\outputs\\figures\n",
      "MODELS_DIR     = C:\\Users\\aella\\OneDrive\\Documents\\Projects\\STA211_Challenge_2025\\models\n"
     ]
    }
   ],
   "source": [
    "import sys\n",
    "import os\n",
    "\n",
    "def is_colab():\n",
    "    \"\"\"Détecte si le code s'exécute dans Google Colab.\"\"\"\n",
    "    try:\n",
    "        import google.colab  # noqa\n",
    "        return True\n",
    "    except ImportError:\n",
    "        return False\n",
    "\n",
    "# === 1. Définir le chemin racine en fonction de l'environnement ===\n",
    "if is_colab():\n",
    "    from google.colab import drive\n",
    "    drive.mount('/content/drive', force_remount=True)\n",
    "    ROOT_DIR = \"/content/drive/Othercomputers/Mon_pc_hp/Documents/Projects/STA211_Challenge_2025\"\n",
    "else:\n",
    "    ROOT_DIR = r\"C:\\Users\\aella\\OneDrive\\Documents\\Projects\\STA211_Challenge_2025\"\n",
    "\n",
    "# === 2. Définir les dossiers du projet ===\n",
    "MODULE_DIR      = os.path.join(ROOT_DIR, \"modules\")\n",
    "RAW_DATA_DIR    = os.path.join(ROOT_DIR, \"data\", \"raw\")\n",
    "DATA_PROCESSED  = os.path.join(ROOT_DIR, \"data\", \"processed\")\n",
    "MODELS_DIR      = os.path.join(ROOT_DIR, \"models\")\n",
    "FIGURES_DIR     = os.path.join(ROOT_DIR, \"outputs\", \"figures\")\n",
    "\n",
    "# Créer les dossiers s’ils n’existent pas\n",
    "for folder in [MODULE_DIR, RAW_DATA_DIR, DATA_PROCESSED, MODELS_DIR, FIGURES_DIR]:\n",
    "    os.makedirs(folder, exist_ok=True)\n",
    "\n",
    "# === 3. Ajouter MODULE_DIR au path pour l'import de modules maison ===\n",
    "if MODULE_DIR not in sys.path:\n",
    "    sys.path.insert(0, MODULE_DIR)\n",
    "\n",
    "# === 4. Afficher les chemins pour vérification ===\n",
    "print(\"Environnement : Colab\" if is_colab() else \"Environnement : local\")\n",
    "print(\"ROOT_DIR       =\", ROOT_DIR)\n",
    "print(\"MODULE_DIR     =\", MODULE_DIR)\n",
    "print(\"RAW_DATA_DIR   =\", RAW_DATA_DIR)\n",
    "print(\"DATA_PROCESSED =\", DATA_PROCESSED)\n",
    "print(\"FIGURES_DIR    =\", FIGURES_DIR)\n",
    "print(\"MODELS_DIR     =\", MODELS_DIR)\n"
   ]
  },
  {
   "cell_type": "code",
   "execution_count": 3,
   "id": "7265872d",
   "metadata": {
    "executionInfo": {
     "elapsed": 4,
     "status": "ok",
     "timestamp": 1746710917933,
     "user": {
      "displayName": "maoulida abdoullatuf",
      "userId": "05790302460507444417"
     },
     "user_tz": -120
    },
    "id": "7265872d"
   },
   "outputs": [],
   "source": [
    "# === Importation des bibliothèques principales ===\n",
    "import pandas as pd\n",
    "import numpy as np\n",
    "import matplotlib.pyplot as plt\n",
    "import seaborn as sns\n",
    "\n",
    "# Affichage plus lisible\n",
    "sns.set(style=\"whitegrid\")\n",
    "plt.style.use('seaborn-v0_8')\n",
    "\n",
    "# === Scikit-learn : preprocessing, modèles, évaluation ===\n",
    "from sklearn.model_selection import train_test_split, StratifiedKFold, GridSearchCV\n",
    "from sklearn.preprocessing import StandardScaler\n",
    "from sklearn.metrics import (\n",
    "    classification_report,\n",
    "    confusion_matrix,\n",
    "    roc_auc_score,\n",
    "    f1_score,\n",
    "    accuracy_score,\n",
    "    precision_score,\n",
    "    recall_score,\n",
    "    make_scorer\n",
    ")\n",
    "\n",
    "# === Modèles classiques ===\n",
    "from sklearn.linear_model import LogisticRegression\n",
    "from sklearn.ensemble import RandomForestClassifier\n",
    "from sklearn.tree import DecisionTreeClassifier\n",
    "from sklearn.neighbors import KNeighborsClassifier\n",
    "from sklearn.svm import SVC\n",
    "from sklearn.neural_network import MLPClassifier\n",
    "\n",
    "# === Gestion du déséquilibre ===\n",
    "from imblearn.over_sampling import SMOTE\n",
    "\n",
    "# Supprimer les warnings inutiles\n",
    "import warnings\n",
    "warnings.filterwarnings('ignore')\n"
   ]
  },
  {
   "cell_type": "markdown",
   "id": "tr0DXM8Z6x3i",
   "metadata": {
    "id": "tr0DXM8Z6x3i"
   },
   "source": [
    "# Chargement des données"
   ]
  },
  {
   "cell_type": "code",
   "execution_count": 4,
   "id": "096db384",
   "metadata": {
    "colab": {
     "base_uri": "https://localhost:8080/",
     "height": 409
    },
    "executionInfo": {
     "elapsed": 204,
     "status": "ok",
     "timestamp": 1746710918148,
     "user": {
      "displayName": "maoulida abdoullatuf",
      "userId": "05790302460507444417"
     },
     "user_tz": -120
    },
    "id": "096db384",
    "outputId": "84537ccc-e777-4798-9937-690f5791fb38"
   },
   "outputs": [
    {
     "name": "stdout",
     "output_type": "stream",
     "text": [
      "Dimensions du dataset: (2459, 180)\n",
      "\n",
      "Infos colonnes :\n",
      "<class 'pandas.core.frame.DataFrame'>\n",
      "RangeIndex: 2459 entries, 0 to 2458\n",
      "Columns: 180 entries, X4 to X3_boxcox\n",
      "dtypes: float64(3), int64(176), object(1)\n",
      "memory usage: 3.4+ MB\n",
      "\n",
      "Aperçu des données :\n"
     ]
    },
    {
     "data": {
      "text/html": [
       "<div>\n",
       "<style scoped>\n",
       "    .dataframe tbody tr th:only-of-type {\n",
       "        vertical-align: middle;\n",
       "    }\n",
       "\n",
       "    .dataframe tbody tr th {\n",
       "        vertical-align: top;\n",
       "    }\n",
       "\n",
       "    .dataframe thead th {\n",
       "        text-align: right;\n",
       "    }\n",
       "</style>\n",
       "<table border=\"1\" class=\"dataframe\">\n",
       "  <thead>\n",
       "    <tr style=\"text-align: right;\">\n",
       "      <th></th>\n",
       "      <th>X4</th>\n",
       "      <th>outcome</th>\n",
       "      <th>X1244</th>\n",
       "      <th>X352</th>\n",
       "      <th>X1400</th>\n",
       "      <th>X969</th>\n",
       "      <th>X1345</th>\n",
       "      <th>X1436</th>\n",
       "      <th>X1230</th>\n",
       "      <th>X1119</th>\n",
       "      <th>...</th>\n",
       "      <th>X265</th>\n",
       "      <th>X963</th>\n",
       "      <th>X1133</th>\n",
       "      <th>X555</th>\n",
       "      <th>X1432</th>\n",
       "      <th>X1495</th>\n",
       "      <th>X870</th>\n",
       "      <th>X1_log</th>\n",
       "      <th>X2_boxcox</th>\n",
       "      <th>X3_boxcox</th>\n",
       "    </tr>\n",
       "  </thead>\n",
       "  <tbody>\n",
       "    <tr>\n",
       "      <th>0</th>\n",
       "      <td>1</td>\n",
       "      <td>ad.</td>\n",
       "      <td>1</td>\n",
       "      <td>0</td>\n",
       "      <td>0</td>\n",
       "      <td>0</td>\n",
       "      <td>0</td>\n",
       "      <td>1</td>\n",
       "      <td>0</td>\n",
       "      <td>0</td>\n",
       "      <td>...</td>\n",
       "      <td>0</td>\n",
       "      <td>0</td>\n",
       "      <td>0</td>\n",
       "      <td>0</td>\n",
       "      <td>0</td>\n",
       "      <td>0</td>\n",
       "      <td>0</td>\n",
       "      <td>4.836282</td>\n",
       "      <td>9.870992</td>\n",
       "      <td>0.000000</td>\n",
       "    </tr>\n",
       "    <tr>\n",
       "      <th>1</th>\n",
       "      <td>1</td>\n",
       "      <td>ad.</td>\n",
       "      <td>0</td>\n",
       "      <td>0</td>\n",
       "      <td>0</td>\n",
       "      <td>0</td>\n",
       "      <td>0</td>\n",
       "      <td>0</td>\n",
       "      <td>1</td>\n",
       "      <td>0</td>\n",
       "      <td>...</td>\n",
       "      <td>0</td>\n",
       "      <td>0</td>\n",
       "      <td>0</td>\n",
       "      <td>0</td>\n",
       "      <td>1</td>\n",
       "      <td>0</td>\n",
       "      <td>0</td>\n",
       "      <td>3.526361</td>\n",
       "      <td>12.284012</td>\n",
       "      <td>2.056352</td>\n",
       "    </tr>\n",
       "    <tr>\n",
       "      <th>2</th>\n",
       "      <td>1</td>\n",
       "      <td>ad.</td>\n",
       "      <td>0</td>\n",
       "      <td>0</td>\n",
       "      <td>0</td>\n",
       "      <td>0</td>\n",
       "      <td>0</td>\n",
       "      <td>0</td>\n",
       "      <td>1</td>\n",
       "      <td>0</td>\n",
       "      <td>...</td>\n",
       "      <td>0</td>\n",
       "      <td>0</td>\n",
       "      <td>0</td>\n",
       "      <td>0</td>\n",
       "      <td>0</td>\n",
       "      <td>0</td>\n",
       "      <td>0</td>\n",
       "      <td>4.110874</td>\n",
       "      <td>15.640028</td>\n",
       "      <td>2.182903</td>\n",
       "    </tr>\n",
       "    <tr>\n",
       "      <th>3</th>\n",
       "      <td>1</td>\n",
       "      <td>ad.</td>\n",
       "      <td>0</td>\n",
       "      <td>0</td>\n",
       "      <td>0</td>\n",
       "      <td>0</td>\n",
       "      <td>0</td>\n",
       "      <td>0</td>\n",
       "      <td>1</td>\n",
       "      <td>0</td>\n",
       "      <td>...</td>\n",
       "      <td>0</td>\n",
       "      <td>0</td>\n",
       "      <td>0</td>\n",
       "      <td>0</td>\n",
       "      <td>0</td>\n",
       "      <td>0</td>\n",
       "      <td>0</td>\n",
       "      <td>4.110874</td>\n",
       "      <td>15.640028</td>\n",
       "      <td>2.182903</td>\n",
       "    </tr>\n",
       "    <tr>\n",
       "      <th>4</th>\n",
       "      <td>1</td>\n",
       "      <td>ad.</td>\n",
       "      <td>0</td>\n",
       "      <td>0</td>\n",
       "      <td>0</td>\n",
       "      <td>0</td>\n",
       "      <td>0</td>\n",
       "      <td>0</td>\n",
       "      <td>1</td>\n",
       "      <td>0</td>\n",
       "      <td>...</td>\n",
       "      <td>0</td>\n",
       "      <td>0</td>\n",
       "      <td>0</td>\n",
       "      <td>0</td>\n",
       "      <td>0</td>\n",
       "      <td>0</td>\n",
       "      <td>0</td>\n",
       "      <td>4.094345</td>\n",
       "      <td>15.550788</td>\n",
       "      <td>2.182411</td>\n",
       "    </tr>\n",
       "  </tbody>\n",
       "</table>\n",
       "<p>5 rows × 180 columns</p>\n",
       "</div>"
      ],
      "text/plain": [
       "   X4 outcome  X1244  X352  X1400  X969  X1345  X1436  X1230  X1119  ...  \\\n",
       "0   1     ad.      1     0      0     0      0      1      0      0  ...   \n",
       "1   1     ad.      0     0      0     0      0      0      1      0  ...   \n",
       "2   1     ad.      0     0      0     0      0      0      1      0  ...   \n",
       "3   1     ad.      0     0      0     0      0      0      1      0  ...   \n",
       "4   1     ad.      0     0      0     0      0      0      1      0  ...   \n",
       "\n",
       "   X265  X963  X1133  X555  X1432  X1495  X870    X1_log  X2_boxcox  X3_boxcox  \n",
       "0     0     0      0     0      0      0     0  4.836282   9.870992   0.000000  \n",
       "1     0     0      0     0      1      0     0  3.526361  12.284012   2.056352  \n",
       "2     0     0      0     0      0      0     0  4.110874  15.640028   2.182903  \n",
       "3     0     0      0     0      0      0     0  4.110874  15.640028   2.182903  \n",
       "4     0     0      0     0      0      0     0  4.094345  15.550788   2.182411  \n",
       "\n",
       "[5 rows x 180 columns]"
      ]
     },
     "metadata": {},
     "output_type": "display_data"
    }
   ],
   "source": [
    "from data_preprocessing import load_data\n",
    "\n",
    "# Chemin complet vers le fichier CSV final\n",
    "final_csv_path = os.path.join(DATA_PROCESSED, \"df_final_knn.csv\")\n",
    "\n",
    "# Chargement des données\n",
    "data = load_data(final_csv_path)\n"
   ]
  },
  {
   "cell_type": "markdown",
   "id": "vLtQKyUv7nie",
   "metadata": {
    "id": "vLtQKyUv7nie"
   },
   "source": [
    "# Préparation des données"
   ]
  },
  {
   "cell_type": "code",
   "execution_count": 13,
   "id": "oKNNRkuzFlVN",
   "metadata": {
    "colab": {
     "base_uri": "https://localhost:8080/"
    },
    "executionInfo": {
     "elapsed": 3327,
     "status": "ok",
     "timestamp": 1746710924948,
     "user": {
      "displayName": "maoulida abdoullatuf",
      "userId": "05790302460507444417"
     },
     "user_tz": -120
    },
    "id": "oKNNRkuzFlVN",
    "outputId": "3f9b51be-b487-4451-d7e7-3e6f55ed47bf"
   },
   "outputs": [
    {
     "name": "stdout",
     "output_type": "stream",
     "text": [
      "Requirement already satisfied: joblib in /usr/local/lib/python3.11/dist-packages (1.4.2)\n"
     ]
    }
   ],
   "source": [
    "pip install joblib"
   ]
  },
  {
   "cell_type": "code",
   "execution_count": 5,
   "id": "9a22f30e",
   "metadata": {
    "colab": {
     "base_uri": "https://localhost:8080/"
    },
    "executionInfo": {
     "elapsed": 43,
     "status": "ok",
     "timestamp": 1746710924992,
     "user": {
      "displayName": "maoulida abdoullatuf",
      "userId": "05790302460507444417"
     },
     "user_tz": -120
    },
    "id": "9a22f30e",
    "outputId": "641e7d05-f26f-4601-979d-81f9584d8866"
   },
   "outputs": [
    {
     "name": "stdout",
     "output_type": "stream",
     "text": [
      "Taille du train initial : (1967, 179)\n",
      "Taille après SMOTE :     (3384, 179)\n",
      "Distribution y (après SMOTE) :\n",
      "outcome\n",
      "0    0.5\n",
      "1    0.5\n",
      "Name: proportion, dtype: float64\n"
     ]
    }
   ],
   "source": [
    "from sklearn.model_selection import train_test_split\n",
    "from sklearn.preprocessing import StandardScaler\n",
    "from imblearn.over_sampling import SMOTE\n",
    "import joblib\n",
    "import os\n",
    "\n",
    "# === Séparation features / target ===\n",
    "X = data.drop(columns=[\"outcome\"])\n",
    "y = (data[\"outcome\"] == \"ad.\").astype(int)  # 1 si pub, 0 sinon\n",
    "\n",
    "# === Split en train / test (80/20), avec stratification ===\n",
    "X_train, X_test, y_train, y_test = train_test_split(\n",
    "    X, y, stratify=y, test_size=0.2, random_state=42\n",
    ")\n",
    "\n",
    "# === Sauvegarde des colonnes utilisées ===\n",
    "columns_used = X_train.columns.tolist()\n",
    "joblib.dump(columns_used, os.path.join(DATA_PROCESSED, \"columns_used.pkl\"))\n",
    "\n",
    "# === Standardisation des données ===\n",
    "scaler = StandardScaler()\n",
    "X_train_scaled = scaler.fit_transform(X_train)\n",
    "X_test_scaled = scaler.transform(X_test)\n",
    "\n",
    "# === Rééquilibrage par SMOTE ===\n",
    "smote = SMOTE(random_state=42)\n",
    "X_train_res, y_train_res = smote.fit_resample(X_train_scaled, y_train)\n",
    "\n",
    "# Vérification\n",
    "print(f\"Taille du train initial : {X_train.shape}\")\n",
    "print(f\"Taille après SMOTE :     {X_train_res.shape}\")\n",
    "print(\"Distribution y (après SMOTE) :\")\n",
    "print(pd.Series(y_train_res).value_counts(normalize=True).round(3))\n"
   ]
  },
  {
   "cell_type": "code",
   "execution_count": 6,
   "id": "MoHN1mCSxg2N",
   "metadata": {
    "colab": {
     "base_uri": "https://localhost:8080/"
    },
    "executionInfo": {
     "elapsed": 29,
     "status": "ok",
     "timestamp": 1746705723532,
     "user": {
      "displayName": "maoulida abdoullatuf",
      "userId": "05790302460507444417"
     },
     "user_tz": -120
    },
    "id": "MoHN1mCSxg2N",
    "outputId": "30e0d42f-ce98-4d68-8542-24b12bf39d70"
   },
   "outputs": [
    {
     "name": "stdout",
     "output_type": "stream",
     "text": [
      "Scaler sauvegardé à : C:\\Users\\aella\\OneDrive\\Documents\\Projects\\STA211_Challenge_2025\\data\\processed\\scaler_knn.pkl\n"
     ]
    }
   ],
   "source": [
    "# Sauvegarde du scaler pour réutilisation sur d'autres jeux (ex: data_test.csv)\n",
    "scaler_path = os.path.join(DATA_PROCESSED, \"scaler_knn.pkl\")\n",
    "joblib.dump(scaler, scaler_path)\n",
    "print(f\"Scaler sauvegardé à : {scaler_path}\")"
   ]
  },
  {
   "cell_type": "markdown",
   "id": "_DbcgyGS7s1s",
   "metadata": {
    "id": "_DbcgyGS7s1s"
   },
   "source": [
    "# Définition des modèles"
   ]
  },
  {
   "cell_type": "code",
   "execution_count": null,
   "id": "8340baba",
   "metadata": {
    "id": "8340baba"
   },
   "outputs": [],
   "source": [
    "models = {\n",
    "    \"Logistic Regression\": (\n",
    "        LogisticRegression(max_iter=1000),\n",
    "        {\"C\": [0.1, 1, 10]}\n",
    "    ),\n",
    "    \"Decision Tree\": (\n",
    "        DecisionTreeClassifier(random_state=42),\n",
    "        {\"max_depth\": [5, 10, 20]}\n",
    "    ),\n",
    "    \"Random Forest\": (\n",
    "        RandomForestClassifier(random_state=42),\n",
    "        {\"n_estimators\": [50, 100]}\n",
    "    ),\n",
    "    \"KNN\": (\n",
    "        KNeighborsClassifier(),\n",
    "        {\"n_neighbors\": [3, 5, 7]}\n",
    "    ),\n",
    "    \"SVM\": (\n",
    "        SVC(probability=True),\n",
    "        {\"C\": [0.1, 1], \"kernel\": [\"linear\", \"rbf\"]}\n",
    "    ),\n",
    "    \"Neural Net\": (\n",
    "        MLPClassifier(max_iter=500, random_state=42),\n",
    "        {\"hidden_layer_sizes\": [(100,), (50, 50)], \"alpha\": [0.0001, 0.001]}\n",
    "    )\n",
    "}\n"
   ]
  },
  {
   "cell_type": "markdown",
   "id": "S6Iy4JfC710b",
   "metadata": {
    "id": "S6Iy4JfC710b"
   },
   "source": [
    "# Entraînement avec optimisation F1"
   ]
  },
  {
   "cell_type": "code",
   "execution_count": null,
   "id": "25548cd0",
   "metadata": {
    "colab": {
     "base_uri": "https://localhost:8080/"
    },
    "executionInfo": {
     "elapsed": 117487,
     "status": "ok",
     "timestamp": 1746707231363,
     "user": {
      "displayName": "maoulida abdoullatuf",
      "userId": "05790302460507444417"
     },
     "user_tz": -120
    },
    "id": "25548cd0",
    "outputId": "1ca81a00-c337-4a56-b7bc-fb313d2f068b"
   },
   "outputs": [
    {
     "name": "stdout",
     "output_type": "stream",
     "text": [
      "=== Entraînement et optimisation par validation croisée ===\n",
      "\n",
      "🔍 Optimisation Logistic Regression\n",
      "Confusion Matrix :\n",
      "[[404  19]\n",
      " [ 12  57]]\n",
      "Classification Report :\n",
      "              precision    recall  f1-score   support\n",
      "\n",
      "           0      0.971     0.955     0.963       423\n",
      "           1      0.750     0.826     0.786        69\n",
      "\n",
      "    accuracy                          0.937       492\n",
      "   macro avg      0.861     0.891     0.875       492\n",
      "weighted avg      0.940     0.937     0.938       492\n",
      "\n",
      "✅ F1-score : 0.7862 | AUC : 0.9018\n",
      "\n",
      "🔍 Optimisation Decision Tree\n",
      "Confusion Matrix :\n",
      "[[419   4]\n",
      " [ 13  56]]\n",
      "Classification Report :\n",
      "              precision    recall  f1-score   support\n",
      "\n",
      "           0      0.970     0.991     0.980       423\n",
      "           1      0.933     0.812     0.868        69\n",
      "\n",
      "    accuracy                          0.965       492\n",
      "   macro avg      0.952     0.901     0.924       492\n",
      "weighted avg      0.965     0.965     0.964       492\n",
      "\n",
      "✅ F1-score : 0.8682 | AUC : 0.8437\n",
      "\n",
      "🔍 Optimisation Random Forest\n",
      "Confusion Matrix :\n",
      "[[419   4]\n",
      " [ 12  57]]\n",
      "Classification Report :\n",
      "              precision    recall  f1-score   support\n",
      "\n",
      "           0      0.972     0.991     0.981       423\n",
      "           1      0.934     0.826     0.877        69\n",
      "\n",
      "    accuracy                          0.967       492\n",
      "   macro avg      0.953     0.908     0.929       492\n",
      "weighted avg      0.967     0.967     0.967       492\n",
      "\n",
      "✅ F1-score : 0.8769 | AUC : 0.9834\n",
      "\n",
      "🔍 Optimisation KNN\n",
      "Confusion Matrix :\n",
      "[[405  18]\n",
      " [ 10  59]]\n",
      "Classification Report :\n",
      "              precision    recall  f1-score   support\n",
      "\n",
      "           0      0.976     0.957     0.967       423\n",
      "           1      0.766     0.855     0.808        69\n",
      "\n",
      "    accuracy                          0.943       492\n",
      "   macro avg      0.871     0.906     0.887       492\n",
      "weighted avg      0.946     0.943     0.944       492\n",
      "\n",
      "✅ F1-score : 0.8082 | AUC : 0.9329\n",
      "\n",
      "🔍 Optimisation SVM\n",
      "Confusion Matrix :\n",
      "[[404  19]\n",
      " [ 12  57]]\n",
      "Classification Report :\n",
      "              precision    recall  f1-score   support\n",
      "\n",
      "           0      0.971     0.955     0.963       423\n",
      "           1      0.750     0.826     0.786        69\n",
      "\n",
      "    accuracy                          0.937       492\n",
      "   macro avg      0.861     0.891     0.875       492\n",
      "weighted avg      0.940     0.937     0.938       492\n",
      "\n",
      "✅ F1-score : 0.7862 | AUC : 0.9217\n",
      "\n",
      "🔍 Optimisation Neural Net\n",
      "Confusion Matrix :\n",
      "[[409  14]\n",
      " [ 14  55]]\n",
      "Classification Report :\n",
      "              precision    recall  f1-score   support\n",
      "\n",
      "           0      0.967     0.967     0.967       423\n",
      "           1      0.797     0.797     0.797        69\n",
      "\n",
      "    accuracy                          0.943       492\n",
      "   macro avg      0.882     0.882     0.882       492\n",
      "weighted avg      0.943     0.943     0.943       492\n",
      "\n",
      "✅ F1-score : 0.7971 | AUC : 0.9002\n",
      "\n",
      "🏆 Meilleur modèle : Random Forest (F1 = 0.8769)\n",
      "📦 Meilleur modèle sauvegardé à : /content/drive/Othercomputers/Mon_pc_hp/Documents/Projects/STA211_Challenge_2025/models/best_model.joblib\n"
     ]
    }
   ],
   "source": [
    "from sklearn.metrics import f1_score, roc_auc_score, classification_report, confusion_matrix\n",
    "from sklearn.model_selection import GridSearchCV\n",
    "from sklearn.metrics import make_scorer\n",
    "import joblib\n",
    "\n",
    "results = {}\n",
    "best_overall_model = None\n",
    "best_score = 0\n",
    "best_model_name = \"\"\n",
    "\n",
    "print(\"=== Entraînement et optimisation par validation croisée ===\")\n",
    "\n",
    "for name, (model, params) in models.items():\n",
    "    print(f\"\\n🔍 Optimisation {name}\")\n",
    "\n",
    "    grid = GridSearchCV(\n",
    "        estimator=model,\n",
    "        param_grid=params,\n",
    "        scoring=make_scorer(f1_score),\n",
    "        cv=5,\n",
    "        n_jobs=-1\n",
    "    )\n",
    "\n",
    "    grid.fit(X_train_res, y_train_res)\n",
    "    best_model = grid.best_estimator_\n",
    "\n",
    "    # Prédiction sur le test set d'origine (non resamplé)\n",
    "    y_pred = best_model.predict(X_test_scaled)\n",
    "    y_proba = best_model.predict_proba(X_test_scaled)[:, 1] if hasattr(best_model, \"predict_proba\") else None\n",
    "\n",
    "    # Affichage\n",
    "    print(\"Confusion Matrix :\")\n",
    "    print(confusion_matrix(y_test, y_pred))\n",
    "    print(\"Classification Report :\")\n",
    "    print(classification_report(y_test, y_pred, digits=3))\n",
    "\n",
    "    f1 = f1_score(y_test, y_pred)\n",
    "    auc = roc_auc_score(y_test, y_proba) if y_proba is not None else None\n",
    "    print(f\"✅ F1-score : {f1:.4f}\" + (f\" | AUC : {auc:.4f}\" if auc else \"\"))\n",
    "\n",
    "    results[name] = (f1, auc)\n",
    "\n",
    "    # Mise à jour si meilleur modèle\n",
    "    if f1 > best_score:\n",
    "        best_score = f1\n",
    "        best_overall_model = best_model\n",
    "        best_model_name = name\n",
    "\n",
    "# Résumé final\n",
    "print(f\"\\n🏆 Meilleur modèle : {best_model_name} (F1 = {best_score:.4f})\")\n",
    "\n",
    "# Sauvegarde du meilleur modèle sous un nom standard\n",
    "best_model_path = os.path.join(MODELS_DIR, \"best_model.joblib\")\n",
    "joblib.dump(best_overall_model, best_model_path)\n",
    "print(f\"📦 Meilleur modèle sauvegardé à : {best_model_path}\")\n",
    "\n"
   ]
  },
  {
   "cell_type": "markdown",
   "id": "4_DgxZ-o8G4E",
   "metadata": {
    "id": "4_DgxZ-o8G4E"
   },
   "source": [
    "# Comparaison des scores"
   ]
  },
  {
   "cell_type": "code",
   "execution_count": null,
   "id": "nXsIwR-VGZ-g",
   "metadata": {
    "colab": {
     "base_uri": "https://localhost:8080/",
     "height": 211
    },
    "executionInfo": {
     "elapsed": 823,
     "status": "error",
     "timestamp": 1746710320078,
     "user": {
      "displayName": "maoulida abdoullatuf",
      "userId": "05790302460507444417"
     },
     "user_tz": -120
    },
    "id": "nXsIwR-VGZ-g",
    "outputId": "bebec01b-0497-4403-f286-cf69b4f8f851"
   },
   "outputs": [
    {
     "ename": "NameError",
     "evalue": "name 'results' is not defined",
     "output_type": "error",
     "traceback": [
      "\u001b[0;31m---------------------------------------------------------------------------\u001b[0m",
      "\u001b[0;31mNameError\u001b[0m                                 Traceback (most recent call last)",
      "\u001b[0;32m<ipython-input-7-fed5a9ac5ec0>\u001b[0m in \u001b[0;36m<cell line: 0>\u001b[0;34m()\u001b[0m\n\u001b[1;32m      3\u001b[0m \u001b[0;34m\u001b[0m\u001b[0m\n\u001b[1;32m      4\u001b[0m \u001b[0;31m# Transformation des résultats en DataFrame\u001b[0m\u001b[0;34m\u001b[0m\u001b[0;34m\u001b[0m\u001b[0m\n\u001b[0;32m----> 5\u001b[0;31m \u001b[0mresults_df\u001b[0m \u001b[0;34m=\u001b[0m \u001b[0mpd\u001b[0m\u001b[0;34m.\u001b[0m\u001b[0mDataFrame\u001b[0m\u001b[0;34m(\u001b[0m\u001b[0mresults\u001b[0m\u001b[0;34m,\u001b[0m \u001b[0mindex\u001b[0m\u001b[0;34m=\u001b[0m\u001b[0;34m[\u001b[0m\u001b[0;34m\"F1-score\"\u001b[0m\u001b[0;34m,\u001b[0m \u001b[0;34m\"AUC\"\u001b[0m\u001b[0;34m]\u001b[0m\u001b[0;34m)\u001b[0m\u001b[0;34m.\u001b[0m\u001b[0mT\u001b[0m\u001b[0;34m.\u001b[0m\u001b[0msort_values\u001b[0m\u001b[0;34m(\u001b[0m\u001b[0;34m\"F1-score\"\u001b[0m\u001b[0;34m,\u001b[0m \u001b[0mascending\u001b[0m\u001b[0;34m=\u001b[0m\u001b[0;32mFalse\u001b[0m\u001b[0;34m)\u001b[0m\u001b[0;34m\u001b[0m\u001b[0;34m\u001b[0m\u001b[0m\n\u001b[0m\u001b[1;32m      6\u001b[0m \u001b[0;34m\u001b[0m\u001b[0m\n\u001b[1;32m      7\u001b[0m \u001b[0;31m# Tracé\u001b[0m\u001b[0;34m\u001b[0m\u001b[0;34m\u001b[0m\u001b[0m\n",
      "\u001b[0;31mNameError\u001b[0m: name 'results' is not defined"
     ]
    }
   ],
   "source": [
    "import pandas as pd\n",
    "import matplotlib.pyplot as plt\n",
    "\n",
    "# Transformation des résultats en DataFrame\n",
    "results_df = pd.DataFrame(results, index=[\"F1-score\", \"AUC\"]).T.sort_values(\"F1-score\", ascending=False)\n",
    "\n",
    "# Tracé\n",
    "fig, ax1 = plt.subplots(figsize=(10, 5))\n",
    "results_df[[\"F1-score\", \"AUC\"]].plot(kind=\"bar\", ax=ax1, colormap=\"viridis\", edgecolor=\"black\")\n",
    "plt.title(\"Comparaison des modèles - F1-score et AUC\")\n",
    "plt.ylabel(\"Score\")\n",
    "plt.xticks(rotation=45)\n",
    "plt.ylim(0, 1)\n",
    "plt.grid(axis=\"y\", linestyle=\"--\", alpha=0.7)\n",
    "plt.tight_layout()\n",
    "plt.show()\n",
    "\n"
   ]
  },
  {
   "cell_type": "markdown",
   "id": "GuHy689u8uVs",
   "metadata": {
    "id": "GuHy689u8uVs"
   },
   "source": [
    "# Importance des variables (Random Forest)"
   ]
  },
  {
   "cell_type": "code",
   "execution_count": null,
   "id": "1795fb7c",
   "metadata": {
    "colab": {
     "base_uri": "https://localhost:8080/",
     "height": 501
    },
    "executionInfo": {
     "elapsed": 741,
     "status": "ok",
     "timestamp": 1746707481974,
     "user": {
      "displayName": "maoulida abdoullatuf",
      "userId": "05790302460507444417"
     },
     "user_tz": -120
    },
    "id": "1795fb7c",
    "outputId": "5b312704-4d57-499a-e840-7d0ce47a00c4"
   },
   "outputs": [
    {
     "data": {
      "image/png": "[encoded data removed]",
      "text/plain": [
       "<Figure size 1000x500 with 1 Axes>"
      ]
     },
     "metadata": {},
     "output_type": "display_data"
    }
   ],
   "source": [
    "best_rf = models[\"Random Forest\"][0].fit(X_train_res, y_train_res)\n",
    "importances = best_rf.feature_importances_\n",
    "indices = np.argsort(importances)[-10:]\n",
    "\n",
    "plt.figure(figsize=(10, 5))\n",
    "plt.barh(range(len(indices)), importances[indices], align='center')\n",
    "plt.yticks(range(len(indices)), [X.columns[i] for i in indices])\n",
    "plt.xlabel(\"Importance\")\n",
    "plt.title(\"Top 10 variables importantes (Random Forest)\")\n",
    "plt.tight_layout()\n",
    "plt.show()"
   ]
  },
  {
   "cell_type": "markdown",
   "id": "cHon2d1s9Caa",
   "metadata": {
    "id": "cHon2d1s9Caa"
   },
   "source": [
    "# Prédictions finales sur `data_test.csv`"
   ]
  },
  {
   "cell_type": "code",
   "execution_count": 6,
   "id": "NVh6bnzTP0On",
   "metadata": {
    "executionInfo": {
     "elapsed": 143,
     "status": "ok",
     "timestamp": 1746710936770,
     "user": {
      "displayName": "maoulida abdoullatuf",
      "userId": "05790302460507444417"
     },
     "user_tz": -120
    },
    "id": "NVh6bnzTP0On"
   },
   "outputs": [],
   "source": [
    "import joblib\n",
    "best_model = joblib.load(os.path.join(MODELS_DIR, \"best_model.joblib\"))"
   ]
  },
  {
   "cell_type": "code",
   "execution_count": 7,
   "id": "QLi6n66FOESy",
   "metadata": {
    "colab": {
     "base_uri": "https://localhost:8080/",
     "height": 245
    },
    "executionInfo": {
     "elapsed": 23,
     "status": "error",
     "timestamp": 1746710942615,
     "user": {
      "displayName": "maoulida abdoullatuf",
      "userId": "05790302460507444417"
     },
     "user_tz": -120
    },
    "id": "QLi6n66FOESy",
    "outputId": "983a025f-93d3-401c-9bf1-6c0c82c2416e"
   },
   "outputs": [
    {
     "name": "stdout",
     "output_type": "stream",
     "text": [
      "Dimensions du dataset: (820, 1558)\n",
      "\n",
      "Infos colonnes :\n",
      "<class 'pandas.core.frame.DataFrame'>\n",
      "Index: 820 entries, 2460 to 3279\n",
      "Columns: 1558 entries, X1 to X1558\n",
      "dtypes: float64(4), int64(1554)\n",
      "memory usage: 9.8 MB\n",
      "\n",
      "Aperçu des données :\n"
     ]
    },
    {
     "data": {
      "text/html": [
       "<div>\n",
       "<style scoped>\n",
       "    .dataframe tbody tr th:only-of-type {\n",
       "        vertical-align: middle;\n",
       "    }\n",
       "\n",
       "    .dataframe tbody tr th {\n",
       "        vertical-align: top;\n",
       "    }\n",
       "\n",
       "    .dataframe thead th {\n",
       "        text-align: right;\n",
       "    }\n",
       "</style>\n",
       "<table border=\"1\" class=\"dataframe\">\n",
       "  <thead>\n",
       "    <tr style=\"text-align: right;\">\n",
       "      <th></th>\n",
       "      <th>X1</th>\n",
       "      <th>X2</th>\n",
       "      <th>X3</th>\n",
       "      <th>X4</th>\n",
       "      <th>X5</th>\n",
       "      <th>X6</th>\n",
       "      <th>X7</th>\n",
       "      <th>X8</th>\n",
       "      <th>X9</th>\n",
       "      <th>X10</th>\n",
       "      <th>...</th>\n",
       "      <th>X1549</th>\n",
       "      <th>X1550</th>\n",
       "      <th>X1551</th>\n",
       "      <th>X1552</th>\n",
       "      <th>X1553</th>\n",
       "      <th>X1554</th>\n",
       "      <th>X1555</th>\n",
       "      <th>X1556</th>\n",
       "      <th>X1557</th>\n",
       "      <th>X1558</th>\n",
       "    </tr>\n",
       "  </thead>\n",
       "  <tbody>\n",
       "    <tr>\n",
       "      <th>2460</th>\n",
       "      <td>57.0</td>\n",
       "      <td>468.0</td>\n",
       "      <td>8.2105</td>\n",
       "      <td>1.0</td>\n",
       "      <td>0</td>\n",
       "      <td>0</td>\n",
       "      <td>0</td>\n",
       "      <td>0</td>\n",
       "      <td>0</td>\n",
       "      <td>0</td>\n",
       "      <td>...</td>\n",
       "      <td>0</td>\n",
       "      <td>0</td>\n",
       "      <td>0</td>\n",
       "      <td>0</td>\n",
       "      <td>0</td>\n",
       "      <td>0</td>\n",
       "      <td>0</td>\n",
       "      <td>0</td>\n",
       "      <td>0</td>\n",
       "      <td>0</td>\n",
       "    </tr>\n",
       "    <tr>\n",
       "      <th>2461</th>\n",
       "      <td>60.0</td>\n",
       "      <td>468.0</td>\n",
       "      <td>7.8000</td>\n",
       "      <td>1.0</td>\n",
       "      <td>0</td>\n",
       "      <td>0</td>\n",
       "      <td>0</td>\n",
       "      <td>0</td>\n",
       "      <td>0</td>\n",
       "      <td>0</td>\n",
       "      <td>...</td>\n",
       "      <td>0</td>\n",
       "      <td>0</td>\n",
       "      <td>0</td>\n",
       "      <td>0</td>\n",
       "      <td>0</td>\n",
       "      <td>0</td>\n",
       "      <td>0</td>\n",
       "      <td>0</td>\n",
       "      <td>0</td>\n",
       "      <td>0</td>\n",
       "    </tr>\n",
       "    <tr>\n",
       "      <th>2462</th>\n",
       "      <td>90.0</td>\n",
       "      <td>52.0</td>\n",
       "      <td>0.5777</td>\n",
       "      <td>1.0</td>\n",
       "      <td>0</td>\n",
       "      <td>0</td>\n",
       "      <td>0</td>\n",
       "      <td>0</td>\n",
       "      <td>0</td>\n",
       "      <td>0</td>\n",
       "      <td>...</td>\n",
       "      <td>0</td>\n",
       "      <td>0</td>\n",
       "      <td>0</td>\n",
       "      <td>0</td>\n",
       "      <td>0</td>\n",
       "      <td>0</td>\n",
       "      <td>0</td>\n",
       "      <td>0</td>\n",
       "      <td>0</td>\n",
       "      <td>0</td>\n",
       "    </tr>\n",
       "    <tr>\n",
       "      <th>2463</th>\n",
       "      <td>60.0</td>\n",
       "      <td>468.0</td>\n",
       "      <td>7.8000</td>\n",
       "      <td>0.0</td>\n",
       "      <td>0</td>\n",
       "      <td>0</td>\n",
       "      <td>0</td>\n",
       "      <td>0</td>\n",
       "      <td>0</td>\n",
       "      <td>0</td>\n",
       "      <td>...</td>\n",
       "      <td>0</td>\n",
       "      <td>0</td>\n",
       "      <td>0</td>\n",
       "      <td>0</td>\n",
       "      <td>0</td>\n",
       "      <td>0</td>\n",
       "      <td>1</td>\n",
       "      <td>1</td>\n",
       "      <td>0</td>\n",
       "      <td>0</td>\n",
       "    </tr>\n",
       "    <tr>\n",
       "      <th>2464</th>\n",
       "      <td>90.0</td>\n",
       "      <td>60.0</td>\n",
       "      <td>0.6666</td>\n",
       "      <td>1.0</td>\n",
       "      <td>0</td>\n",
       "      <td>0</td>\n",
       "      <td>0</td>\n",
       "      <td>0</td>\n",
       "      <td>0</td>\n",
       "      <td>0</td>\n",
       "      <td>...</td>\n",
       "      <td>0</td>\n",
       "      <td>0</td>\n",
       "      <td>0</td>\n",
       "      <td>0</td>\n",
       "      <td>0</td>\n",
       "      <td>0</td>\n",
       "      <td>0</td>\n",
       "      <td>0</td>\n",
       "      <td>0</td>\n",
       "      <td>0</td>\n",
       "    </tr>\n",
       "  </tbody>\n",
       "</table>\n",
       "<p>5 rows × 1558 columns</p>\n",
       "</div>"
      ],
      "text/plain": [
       "        X1     X2      X3   X4  X5  X6  X7  X8  X9  X10  ...  X1549  X1550  \\\n",
       "2460  57.0  468.0  8.2105  1.0   0   0   0   0   0    0  ...      0      0   \n",
       "2461  60.0  468.0  7.8000  1.0   0   0   0   0   0    0  ...      0      0   \n",
       "2462  90.0   52.0  0.5777  1.0   0   0   0   0   0    0  ...      0      0   \n",
       "2463  60.0  468.0  7.8000  0.0   0   0   0   0   0    0  ...      0      0   \n",
       "2464  90.0   60.0  0.6666  1.0   0   0   0   0   0    0  ...      0      0   \n",
       "\n",
       "      X1551  X1552  X1553  X1554  X1555  X1556  X1557  X1558  \n",
       "2460      0      0      0      0      0      0      0      0  \n",
       "2461      0      0      0      0      0      0      0      0  \n",
       "2462      0      0      0      0      0      0      0      0  \n",
       "2463      0      0      0      0      1      1      0      0  \n",
       "2464      0      0      0      0      0      0      0      0  \n",
       "\n",
       "[5 rows x 1558 columns]"
      ]
     },
     "metadata": {},
     "output_type": "display_data"
    },
    {
     "name": "stdout",
     "output_type": "stream",
     "text": [
      "✅ Fichier de prédiction généré : C:\\Users\\aella\\OneDrive\\Documents\\Projects\\STA211_Challenge_2025\\my_pred.csv\n"
     ]
    }
   ],
   "source": [
    "from predict_preprocessing import generate_submission\n",
    "\n",
    "generate_submission(\n",
    "    test_file=\"data_test.csv\",\n",
    "    imputer_file=\"imputer_knn_k20.pkl\",\n",
    "    scaler_file=\"scaler_knn.pkl\",\n",
    "    model_file=\"best_model.joblib\"\n",
    ")\n"
   ]
  },
  {
   "cell_type": "code",
   "execution_count": 8,
   "id": "hK_qntmIOEPq",
   "metadata": {
    "id": "hK_qntmIOEPq"
   },
   "outputs": [],
   "source": [
    "def read_pred(file, n=820):\n",
    "    \"\"\"Vérifie la conformité du fichier de prédiction au format attendu.\"\"\"\n",
    "    y_pred = pd.read_csv(file, header=None).squeeze()\n",
    "\n",
    "    if len(y_pred) != n:\n",
    "        raise ValueError(f\"❌ Le fichier contient {len(y_pred)} lignes, attendu : {n}.\")\n",
    "\n",
    "    if y_pred.isnull().any():\n",
    "        raise ValueError(\"❌ Le fichier contient des valeurs manquantes (NA).\")\n",
    "\n",
    "    unique_vals = set(y_pred.unique())\n",
    "    if not unique_vals.issubset({\"ad.\", \"noad.\"}):\n",
    "        raise ValueError(f\"❌ Valeurs invalides détectées : {unique_vals}\")\n",
    "\n",
    "    if len(unique_vals) == 1:\n",
    "        print(\"⚠️ Avertissement : une seule classe prédite. Risque de sur-apprentissage.\")\n",
    "\n",
    "    print(\"✅ Fichier conforme. Prêt pour soumission.\")\n",
    "    return y_pred\n"
   ]
  },
  {
   "cell_type": "markdown",
   "id": "3c263d69",
   "metadata": {},
   "source": [
    "# Validation locale du fichier"
   ]
  },
  {
   "cell_type": "code",
   "execution_count": 9,
   "id": "vdph33BROEI0",
   "metadata": {
    "id": "vdph33BROEI0"
   },
   "outputs": [
    {
     "name": "stdout",
     "output_type": "stream",
     "text": [
      "✅ Fichier conforme. Prêt pour soumission.\n"
     ]
    },
    {
     "data": {
      "text/plain": [
       "0        ad.\n",
       "1        ad.\n",
       "2        ad.\n",
       "3        ad.\n",
       "4        ad.\n",
       "       ...  \n",
       "815    noad.\n",
       "816    noad.\n",
       "817    noad.\n",
       "818    noad.\n",
       "819    noad.\n",
       "Name: 0, Length: 820, dtype: object"
      ]
     },
     "execution_count": 9,
     "metadata": {},
     "output_type": "execute_result"
    }
   ],
   "source": [
    "read_pred(\"C:/Users/aella/OneDrive/Documents/Projects/STA211_Challenge_2025/my_pred.csv\")"
   ]
  },
  {
   "cell_type": "code",
   "execution_count": null,
   "id": "t0pHokgXOEFx",
   "metadata": {
    "id": "t0pHokgXOEFx"
   },
   "outputs": [],
   "source": []
  }
 ],
 "metadata": {
  "colab": {
   "provenance": []
  },
  "kernelspec": {
   "display_name": "venv_projet_sta211",
   "language": "python",
   "name": "python3"
  },
  "language_info": {
   "codemirror_mode": {
    "name": "ipython",
    "version": 3
   },
   "file_extension": ".py",
   "mimetype": "text/x-python",
   "name": "python",
   "nbconvert_exporter": "python",
   "pygments_lexer": "ipython3",
   "version": "3.12.9"
  }
 },
 "nbformat": 4,
 "nbformat_minor": 5
}
