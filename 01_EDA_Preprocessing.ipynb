{
 "cells": [
  {
   "cell_type": "markdown",
   "id": "0e413730",
   "metadata": {},
   "source": [
    "# Analyse Exploratoire et Prétraitement des Données\n",
    "\n",
    "Ce notebook se concentre sur l'analyse exploratoire et le prétraitement des données pour le projet STA211 de prédiction de publicités.\n",
    "\n",
    "## Table des Matières\n",
    "1. [Chargement et Aperçu des Données](#chargement)\n",
    "2. [Gestion des Valeurs Manquantes](#valeurs-manquantes)\n",
    "3. [Analyse Univariée](#analyse-univariee)\n",
    "4. [Analyse Bivariée](#analyse-bivariee)\n",
    "5. [Analyse Multivariée](#analyse-multivariee)\n",
    "6. [Réduction de Dimensionnalité](#reduction-dim)\n",
    "7. [Prétraitement Final](#pretraitement)\n",
    "8. [Export des Données](#export)\n"
   ]
  },
  {
   "cell_type": "code",
   "execution_count": null,
   "id": "0818a505",
   "metadata": {},
   "outputs": [],
   "source": [
    "# Import des biblioth�ques n�cessaires\n",
    "import pandas as pd\n",
    "import numpy as np\n",
    "import matplotlib.pyplot as plt\n",
    "import seaborn as sns\n",
    "from sklearn.preprocessing import StandardScaler\n",
    "from sklearn.decomposition import PCA\n",
    "from sklearn.impute import SimpleImputer, KNNImputer\n",
    "import prince  # Pour l'analyse factorielle multiple\n",
    "import umap\n",
    "import warnings\n",
    "from exploratory_analysis import *\n",
    "\n",
    "# Configuration des visualisations\n",
    "plt.style.use('seaborn-v0_8')\n",
    "sns.set_palette(\"husl\")\n",
    "warnings.filterwarnings('ignore')\n",
    "%matplotlib inline\n",
    "pd.set_option('display.max_columns', None)\n",
    "pd.set_option('display.width', 1000)\n"
   ]
  },
  {
   "cell_type": "markdown",
   "id": "9558e0cd",
   "metadata": {},
   "source": [
    "## 1. Chargement et Aper�u des Donn�es <a id='chargement'></a>"
   ]
  },
  {
   "cell_type": "code",
   "execution_count": null,
   "id": "97b94d6b",
   "metadata": {},
   "outputs": [],
   "source": [
    "# Chargement des donn�es\n",
    "df = pd.read_csv('data_train.csv')\n",
    "\n",
    "# Affichage des informations de base\n",
    "print(\"Dimensions du dataset:\", df.shape)\n",
    "print(\"\\nAper�u des premi�res lignes:\")\n",
    "display(df.head())\n",
    "\n",
    "print(\"\\nInformations sur les colonnes:\")\n",
    "display(df.info())\n",
    "\n",
    "print(\"\\nStatistiques descriptives:\")\n",
    "display(df.describe())\n"
   ]
  },
  {
   "cell_type": "markdown",
   "id": "4fb5e702",
   "metadata": {},
   "source": [
    "## 2. Gestion des Valeurs Manquantes <a id='valeurs-manquantes'></a>"
   ]
  },
  {
   "cell_type": "code",
   "execution_count": null,
   "id": "fd3231d2",
   "metadata": {},
   "outputs": [],
   "source": [
    "# Analyse des valeurs manquantes\n",
    "missing_values = df.isnull().sum()\n",
    "missing_percentages = (missing_values / len(df)) * 100\n",
    "\n",
    "# Affichage des colonnes avec des valeurs manquantes\n",
    "missing_info = pd.DataFrame({\n",
    "    'Valeurs manquantes': missing_values,\n",
    "    'Pourcentage (%)': missing_percentages\n",
    "}).query('`Valeurs manquantes` > 0')\n",
    "\n",
    "print(\"Analyse des valeurs manquantes:\")\n",
    "display(missing_info)\n",
    "\n",
    "# Visualisation des valeurs manquantes\n",
    "plt.figure(figsize=(12, 6))\n",
    "sns.heatmap(df.isnull(), yticklabels=False, cbar=True, cmap='viridis')\n",
    "plt.title('Distribution des valeurs manquantes')\n",
    "plt.show()\n",
    "\n",
    "# Application de la fonction handle_missing_values\n",
    "df_imputed = handle_missing_values(df.copy(), strategy='advanced', display_info=True)\n"
   ]
  },
  {
   "cell_type": "markdown",
   "id": "69e4315b",
   "metadata": {},
   "source": [
    "## 3. Analyse Univari�e <a id='analyse-univariee'></a>"
   ]
  },
  {
   "cell_type": "code",
   "execution_count": null,
   "id": "66bdfcb9",
   "metadata": {},
   "outputs": [],
   "source": [
    "# Analyse de la distribution de la variable cible\n",
    "plt.figure(figsize=(10, 5))\n",
    "sns.countplot(data=df_imputed, x='outcome')\n",
    "plt.title('Distribution de la variable cible')\n",
    "plt.show()\n",
    "\n",
    "# Analyse univari�e des variables num�riques\n",
    "univariate_analysis(df_imputed)\n",
    "\n",
    "# Distribution des variables num�riques\n",
    "numeric_cols = df_imputed.select_dtypes(include=['float64', 'int64']).columns\n",
    "n_cols = len(numeric_cols)\n",
    "n_rows = (n_cols + 2) // 3\n",
    "\n",
    "plt.figure(figsize=(15, 5*n_rows))\n",
    "for i, col in enumerate(numeric_cols, 1):\n",
    "    plt.subplot(n_rows, 3, i)\n",
    "    sns.histplot(data=df_imputed, x=col, kde=True)\n",
    "    plt.title(f'Distribution de {col}')\n",
    "plt.tight_layout()\n",
    "plt.show()\n"
   ]
  },
  {
   "cell_type": "markdown",
   "id": "bcd6fa13",
   "metadata": {},
   "source": [
    "## 4. Analyse Bivari�e <a id='analyse-bivariee'></a>"
   ]
  },
  {
   "cell_type": "code",
   "execution_count": null,
   "id": "ae8c89df",
   "metadata": {},
   "outputs": [],
   "source": [
    "# Analyse des corr�lations avec la variable cible\n",
    "correlations, high_corr_pairs = bivariate_analysis(df_imputed)\n",
    "\n",
    "# Matrice de corr�lation\n",
    "plt.figure(figsize=(12, 8))\n",
    "numeric_data = df_imputed.select_dtypes(include=['float64', 'int64'])\n",
    "sns.heatmap(numeric_data.corr(), annot=True, cmap='coolwarm', center=0)\n",
    "plt.title('Matrice de corr�lation')\n",
    "plt.tight_layout()\n",
    "plt.show()\n"
   ]
  },
  {
   "cell_type": "markdown",
   "id": "37a8617e",
   "metadata": {},
   "source": [
    "## 5. Analyse Multivari�e <a id='analyse-multivariee'></a>"
   ]
  },
  {
   "cell_type": "code",
   "execution_count": null,
   "id": "36bb8d15",
   "metadata": {},
   "outputs": [],
   "source": [
    "# Analyse multivari�e\n",
    "high_corr_pairs = multivariate_analysis(df_imputed)\n",
    "\n",
    "# Visualisation UMAP\n",
    "umap_visualization(df_imputed)\n",
    "\n",
    "# Analyse factorielle multiple (AFM)\n",
    "numeric_cols = df_imputed.select_dtypes(include=['float64', 'int64']).columns\n",
    "groups = [numeric_cols.tolist()]\n",
    "mfa = prince.MFA(n_components=2, groups=groups, random_state=42)\n",
    "mfa_coords = mfa.fit_transform(df_imputed[numeric_cols])\n",
    "\n",
    "plt.figure(figsize=(10, 6))\n",
    "plt.scatter(mfa_coords[0], mfa_coords[1], alpha=0.5)\n",
    "plt.title('Analyse Factorielle Multiple')\n",
    "plt.xlabel('Premi�re composante')\n",
    "plt.ylabel('Deuxi�me composante')\n",
    "plt.show()\n"
   ]
  },
  {
   "cell_type": "markdown",
   "id": "52b50467",
   "metadata": {},
   "source": [
    "## 6. R�duction de Dimensionnalit� <a id='reduction-dim'></a>"
   ]
  },
  {
   "cell_type": "code",
   "execution_count": null,
   "id": "7ff96faa",
   "metadata": {},
   "outputs": [],
   "source": [
    "# R�duction de dimensionnalit� avec PCA et analyse des features importantes\n",
    "X_final, pca_model, selected_features = dimension_reduction(df_imputed, display_info=True)\n",
    "\n",
    "# Analyse de l'importance des features\n",
    "importance_results = analyze_feature_importance(df_imputed)\n",
    "\n",
    "# Comparaison des m�thodes de visualisation\n",
    "compare_visualization_methods(df_imputed)\n"
   ]
  },
  {
   "cell_type": "markdown",
   "id": "942e8528",
   "metadata": {},
   "source": [
    "## 7. Prétraitement Final <a id='pretraitement'></a>"
   ]
  },
  {
   "cell_type": "code",
   "execution_count": null,
   "id": "bed4621a",
   "metadata": {},
   "outputs": [],
   "source": [
    "# S�lection des features importantes\n",
    "top_features = importance_results.nlargest(20, 'Combined_Score')['feature'].tolist()\n",
    "df_final = df_imputed[top_features + ['outcome']].copy()\n",
    "\n",
    "# Cr�ation de features polynomiales et d'interaction\n",
    "df_enhanced = enhance_features(df_final, top_features)\n",
    "\n",
    "print(\"Dimensions finales du dataset:\", df_enhanced.shape)\n",
    "print(\"\\nAper�u des nouvelles features:\")\n",
    "display(df_enhanced.head())\n"
   ]
  },
  {
   "cell_type": "markdown",
   "id": "e76f1f81",
   "metadata": {},
   "source": [
    "## 8. Export des Données <a id='export'></a>"
   ]
  },
  {
   "cell_type": "code",
   "execution_count": null,
   "id": "5296fc92",
   "metadata": {},
   "outputs": [],
   "source": [
    "# Sauvegarde des données prétraitées\n",
    "df_enhanced.to_csv('data_train_processed.csv', index=False)\n",
    "print(\"Données prétraitées sauvegardées dans 'data_train_processed.csv'\")\n"
   ]
  },
  {
   "cell_type": "markdown",
   "id": "8f5b013d",
   "metadata": {},
   "source": []
  }
 ],
 "metadata": {
  "language_info": {
   "name": "python"
  }
 },
 "nbformat": 4,
 "nbformat_minor": 5
}
